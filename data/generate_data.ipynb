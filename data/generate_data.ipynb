{
 "cells": [
  {
   "cell_type": "markdown",
   "metadata": {},
   "source": [
    "# 1D Reactor"
   ]
  },
  {
   "cell_type": "code",
   "execution_count": null,
   "metadata": {},
   "outputs": [],
   "source": [
    "#load modules\n",
    "import sys\n",
    "import numpy as np\n",
    "import pandas as pd\n",
    "import cantera as ct\n",
    "\n",
    "#Initialise chemistry\n",
    "gas = ct.Solution('./ch41step.xml')\n",
    "R = rxns = ct.Reaction.listFromFile('./ch41step.xml')\n",
    "myreaction  = R[0]\n",
    "\n",
    "iCO2 = gas.species_index('CO2')\n",
    "iH2O = gas.species_index('H2O')\n",
    "iO2 = gas.species_index('O2')\n",
    "iCH4 = gas.species_index('CH4')\n",
    "\n",
    "transient_data = pd.DataFrame()\n",
    "constant_data = pd.DataFrame()\n",
    "\n",
    "\n",
    "#run reactor for T = 1000 to 3000\n",
    "for T in np.arange(1000,3001,1):\n",
    "    print(\"T: \" +  str(T))\n",
    "    gas.TPY = T, ct.one_atm, 'CH4:1,O2:2'\n",
    "    r = ct.IdealGasConstPressureReactor(gas, energy = 'off')\n",
    "    sim = ct.ReactorNet([r])\n",
    "    time = 0.0\n",
    "    states = ct.SolutionArray(gas, extra=['t'])\n",
    "\n",
    "    transient_data = transient_data.append({'t [s]': sim.time, 'T [K]':  r.T\n",
    "                                    ,'Yco2': r.Y[iCO2],'Yh2o': r.Y[iH2O],'Yo2':r.Y[iO2],'Ych4':r.Y[iCH4]},ignore_index=True)\n",
    "    constant_data = constant_data.append({'T [K]':  r.T, 'P [Pa]': r.thermo.P, 'kf': gas.forward_rate_constants, \n",
    "                                          'kb':gas.reverse_rate_constants, 'Ea':myreaction.rate.activation_energy, \n",
    "                                          'A': myreaction.rate.pre_exponential_factor,\n",
    "                                          'b': myreaction.rate.temperature_exponent},ignore_index=True)\n",
    "    for n in range(50):\n",
    "        time += 5.e-7\n",
    "        sim.advance(time)\n",
    "        states.append(r.thermo.state, t=time*1e3)\n",
    "        transient_data = transient_data.append({'t [s]': sim.time, 'T [K]':  r.T\n",
    "                                    ,'Yco2': r.Y[iCO2],'Yh2o': r.Y[iH2O],'Yo2':r.Y[iO2],'Ych4':r.Y[iCH4]},ignore_index=True)\n",
    "\n",
    "#save data\n",
    "transient_data.to_csv('transient_data_ch41step.csv') \n",
    "constant_data.to_csv('constant_data_ch41step.csv') \n"
   ]
  },
  {
   "cell_type": "markdown",
   "metadata": {},
   "source": [
    "# Check kf"
   ]
  },
  {
   "cell_type": "code",
   "execution_count": null,
   "metadata": {},
   "outputs": [],
   "source": [
    "gas.TPX = 2001.0, ct.one_atm, 'CH4:1,O2:2'\n",
    "\n",
    "A = 3.47850e+08\n",
    "b = 0.0 \n",
    "Ea =8.368e+07 #in cal/mol\n",
    "\n",
    "kf = A*1001**b *np.exp(-Ea/(ct.gas_constant*1001))\n",
    "kf"
   ]
  }
 ],
 "metadata": {
  "kernelspec": {
   "display_name": "Python 2",
   "language": "python",
   "name": "python2"
  },
  "language_info": {
   "codemirror_mode": {
    "name": "ipython",
    "version": 2
   },
   "file_extension": ".py",
   "mimetype": "text/x-python",
   "name": "python",
   "nbconvert_exporter": "python",
   "pygments_lexer": "ipython2",
   "version": "2.7.18"
  }
 },
 "nbformat": 4,
 "nbformat_minor": 2
}
