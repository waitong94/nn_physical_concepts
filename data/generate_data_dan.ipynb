{
 "cells": [
  {
   "cell_type": "markdown",
   "metadata": {},
   "source": [
    "# 1D Reactor"
   ]
  },
  {
   "cell_type": "code",
   "execution_count": 1,
   "metadata": {},
   "outputs": [],
   "source": [
    "import sys\n",
    "import numpy as np\n",
    "import pandas as pd\n",
    "import cantera as ct"
   ]
  },
  {
   "cell_type": "code",
   "execution_count": null,
   "metadata": {},
   "outputs": [],
   "source": [
    "N_ex = 2000\n",
    "N_samp = 50\n",
    "dt = 5.0e-7\n",
    "\n",
    "phi = 1.0\n",
    "T_min = 1000.0\n",
    "T_max = 3000.0\n",
    "p = ct.one_atm"
   ]
  },
  {
   "cell_type": "code",
   "execution_count": 4,
   "metadata": {},
   "outputs": [],
   "source": [
    "gas = ct.Solution('./ch41step.xml')\n",
    "R = rxns = ct.Reaction.listFromFile('./ch41step.xml')\n",
    "myreaction  = R[0]\n",
    "\n",
    "iCO2 = gas.species_index('CO2')\n",
    "iH2O = gas.species_index('H2O')\n",
    "iO2 = gas.species_index('O2')\n",
    "iCH4 = gas.species_index('CH4')\n",
    "\n",
    "transient_data = pd.DataFrame()\n",
    "constant_data = pd.DataFrame()"
   ]
  },
  {
   "cell_type": "code",
   "execution_count": null,
   "metadata": {},
   "outputs": [],
   "source": [
    "for i in range(N_ex):\n",
    "    T = T_min + (T_max-T_min)*np.random.rand()\n",
    "    gas.TPY = T, p, 'CH4:{},O2:2'.format(phi)    \n",
    "    time = 0.0\n",
    "    \n",
    "    r = ct.IdealGasConstPressureReactor(gas, energy = 'off')\n",
    "    sim = ct.ReactorNet([r])\n",
    "    \n",
    "    states = ct.SolutionArray(gas, extra=['t'])\n",
    "    transient_data = transient_data.append({'t [s]': sim.time, 'T [K]':  r.T\n",
    "                                            ,'Yco2': r.Y[iCO2],'Yh2o': r.Y[iH2O],'Yo2':r.Y[iO2],'Ych4':r.Y[iCH4]},\n",
    "                                            ignore_index=True)\n",
    "    \n",
    "    constant_data = constant_data.append({'T [K]':  r.T, 'P [Pa]': r.thermo.P, 'kf': gas.forward_rate_constants, \n",
    "                                          'kb':gas.reverse_rate_constants, 'Ea':myreaction.rate.activation_energy, \n",
    "                                          'A': myreaction.rate.pre_exponential_factor,\n",
    "                                          'b': myreaction.rate.temperature_exponent},ignore_index=True)\n",
    "    \n",
    "    print(\"i = {}\".format(i))\n",
    "    \n",
    "    for n in range(N_samp):\n",
    "        time += dt\n",
    "        sim.advance(time)\n",
    "        states.append(r.thermo.state, t=time*1e3)\n",
    "        transient_data = transient_data.append({'t [s]': sim.time, 'T [K]':  r.T\n",
    "                                    ,'Yco2': r.Y[iCO2],'Yh2o': r.Y[iH2O],'Yo2':r.Y[iO2],'Ych4':r.Y[iCH4]},\n",
    "                                               ignore_index=True)\n",
    "        \n",
    "transient_data.to_csv('transient_data_ch41step.csv') \n",
    "constant_data.to_csv('constant_data_ch41step.csv') "
   ]
  },
  {
   "cell_type": "markdown",
   "metadata": {},
   "source": [
    "# Check kf"
   ]
  },
  {
   "cell_type": "code",
   "execution_count": 5,
   "metadata": {},
   "outputs": [
    {
     "name": "stdout",
     "output_type": "stream",
     "text": [
      "0.24971793802434938\n"
     ]
    }
   ],
   "source": [
    "phi = 1.0\n",
    "T = 2000.0\n",
    "p=1e5\n",
    "\n",
    "gas.TPX = T, p, 'CH4:{},O2:2'.format(phi)\n",
    "\n",
    "A = myreaction.rate.pre_exponential_factor\n",
    "b = myreaction.rate.temperature_exponent\n",
    "Ea = myreaction.rate.activation_energy\n",
    "\n",
    "kf = A * T**b * np.exp(-Ea/(ct.gas_constant/4.184 * T))\n",
    "print(kf)"
   ]
  },
  {
   "cell_type": "code",
   "execution_count": 6,
   "metadata": {},
   "outputs": [
    {
     "data": {
      "text/plain": [
       "83680000.0"
      ]
     },
     "execution_count": 6,
     "metadata": {},
     "output_type": "execute_result"
    }
   ],
   "source": [
    "Ea"
   ]
  },
  {
   "cell_type": "code",
   "execution_count": 8,
   "metadata": {},
   "outputs": [
    {
     "data": {
      "text/plain": [
       "-140.36471062471577"
      ]
     },
     "execution_count": 8,
     "metadata": {},
     "output_type": "execute_result"
    }
   ],
   "source": [
    "-Ea/(ct.gas_constant/4.184 * 300)"
   ]
  },
  {
   "cell_type": "code",
   "execution_count": null,
   "metadata": {},
   "outputs": [],
   "source": []
  }
 ],
 "metadata": {
  "kernelspec": {
   "display_name": "Python 2",
   "language": "python",
   "name": "python2"
  },
  "language_info": {
   "codemirror_mode": {
    "name": "ipython",
    "version": 2
   },
   "file_extension": ".py",
   "mimetype": "text/x-python",
   "name": "python",
   "nbconvert_exporter": "python",
   "pygments_lexer": "ipython2",
   "version": "2.7.18"
  }
 },
 "nbformat": 4,
 "nbformat_minor": 2
}
